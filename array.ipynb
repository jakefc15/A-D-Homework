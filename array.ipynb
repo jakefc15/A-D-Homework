from array import *
primes=array("i",[2,3,5,7,11,13,17,19])
print("size of primes array = ", len(primes))
print(primes[3:6])
      

temp=array("i",[primes[3],primes[4],[15])
print(temp[1])
print(temp[2])
11
15
primes=[0]*8
for i in primes:
    print(i)
0
0
0
0
0
0
0
0

for in range(len(primes)}: */len = 8*/
    print(primes[i])
0
0
0
0
0
0
0
0

primes[2]+=1
print(primes[2])
for in range(len(primes)}: */len = 8*/
    print(primes[i])
1
0
0
1
0
0
0
0
0
*/there is an extra because we printed outside of the for loop*/

primes[2]+=1
print(primes[2])
2 */this is 2 because jupyter notebook remembers the previous calculation*/
extras=array("i",[23],29,31])
primes.extend(extras)
print("size of a new primes array=",len(primes))
for i in range(len(primes)):
    print(primes[i])

size of a new primes array = 11
0
